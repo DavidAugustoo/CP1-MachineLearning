{
  "cells": [
    {
      "cell_type": "markdown",
      "metadata": {
        "id": "j-bzGvV3uE1y"
      },
      "source": [
        "# **Checkpoint 01 - Modelagem de Dados e Aprendizagem de Máquina**\n",
        "\n",
        "1.   Item da lista\n",
        "2.   Item da lista\n",
        "\n",
        "\n",
        "\n",
        "## **Objetivo**\n",
        "Avaliar conceitos sobre Modelagem de dados e Aprendizado de Máquina (ML) adquiridos no curso.\n",
        "\n",
        "## **Descrição do Desafio**\n",
        "Você foi contratado por uma empresa que desenvolveu uma plataforma de compra e venda de carros usados. O funcionamento é bem simples, os usuários cadastram o carro que querem vender e esperam que outro usuário os compre, a empresa então fica com uma parte do valor de venda. Seu papel é desenvolver um modelo que possa determinar qual o melhor preço de venda para um usado.\n",
        "\n",
        "Para nortear o desenvolvimento, você precisa de um ponto de partida e determinou uma pergunta chave: **Qual o preço de venda de um veículo Volkswagen Sedan 2.0 a gasolina, ano 2005, com cerca de 172095 km rodados?**\n",
        "\n",
        "### **Orientações**\n",
        "Para responder a essa pergunta, você deve utilizar o dataset da empresa, que está representado no arquivo **carros.csv**, e seguir o roteiro proposto neste desafio."
      ]
    },
    {
      "cell_type": "markdown",
      "metadata": {
        "id": "3sD4e4IY13Ux"
      },
      "source": [
        "## **Exploração de Dados - 2 pontos**\n",
        "\n",
        "1 - Carregue o dataset e faça a inspeção nas 15 primeiras linhas para identificação dos atributos. Quantos dados existem nesse dataset? Qual a quantidade de atributos? Existem valores faltantes? De que tipo são os dados? (1,0)"
      ]
    },
    {
      "cell_type": "code",
      "execution_count": 10,
      "metadata": {
        "id": "SsuvPzQQ5PAt",
        "colab": {
          "base_uri": "https://localhost:8080/"
        },
        "outputId": "f102aefe-2768-4677-8a1e-ace7d99c4a67"
      },
      "outputs": [
        {
          "output_type": "stream",
          "name": "stdout",
          "text": [
            "As primeiras 15 linhas do DataFrame:\n",
            "+----+---------------+---------+-----------+----------------+-----------+---------------+----------------+--------+------------------+\n",
            "|    | Brand         |   Price | Body      |   Mileage/1000 |   EngineV | Engine Type   | Registration   |   Year | Model            |\n",
            "|----+---------------+---------+-----------+----------------+-----------+---------------+----------------+--------+------------------|\n",
            "|  0 | BMW           |    4200 | sedan     |            277 |      2    | Petrol        | yes            |   1991 | 320              |\n",
            "|  1 | Mercedes-Benz |    7900 | van       |            427 |      2.9  | Diesel        | yes            |   1999 | Sprinter 212     |\n",
            "|  2 | Mercedes-Benz |   13300 | sedan     |            358 |      5    | Gas           | yes            |   2003 | S 500            |\n",
            "|  3 | Audi          |   23000 | crossover |            240 |      4.2  | Petrol        | yes            |   2007 | Q7               |\n",
            "|  4 | Toyota        |   18300 | crossover |            120 |      2    | Petrol        | yes            |   2011 | Rav 4            |\n",
            "|  5 | Mercedes-Benz |  199999 | crossover |              0 |      5.5  | Petrol        | yes            |   2016 | GLS 63           |\n",
            "|  6 | BMW           |    6100 | sedan     |            438 |      2    | Gas           | yes            |   1997 | 320              |\n",
            "|  7 | Audi          |   14200 | vagon     |            200 |      2.7  | Diesel        | yes            |   2006 | A6               |\n",
            "|  8 | Renault       |   10799 | vagon     |            193 |      1.5  | Diesel        | yes            |   2012 | Megane           |\n",
            "|  9 | Volkswagen    |    1400 | other     |            212 |      1.8  | Gas           | no             |   1999 | Golf IV          |\n",
            "| 10 | Renault       |   11950 | vagon     |            177 |      1.5  | Diesel        | yes            |   2011 | Megane           |\n",
            "| 11 | Renault       |    2500 | sedan     |            260 |      1.79 | Petrol        | yes            |   1994 | 19               |\n",
            "| 12 | Audi          |    9500 | vagon     |            165 |      2.7  | Gas           | yes            |   2003 | A6 Allroad       |\n",
            "| 13 | Volkswagen    |   10500 | sedan     |            100 |      1.8  | Petrol        | yes            |   2008 | Passat B6        |\n",
            "| 14 | Toyota        |   16000 | crossover |            250 |      4.7  | Gas           | yes            |   2001 | Land Cruiser 100 |\n",
            "+----+---------------+---------+-----------+----------------+-----------+---------------+----------------+--------+------------------+\n",
            "\n",
            "Informações gerais do conjunto de dados: \n",
            "\n",
            "Descrição              Valor\n",
            "-------------------  -------\n",
            "Número de dados         4345\n",
            "Número de atributos        9\n",
            "Valores faltantes        322\n",
            "\n",
            "Valores faltantes e tipos de dados por atributo: \n",
            "\n",
            "Atributo        Valores faltantes  Tipos de dados\n",
            "------------  -------------------  ----------------\n",
            "Brand                           0  object\n",
            "Price                         172  float64\n",
            "Body                            0  object\n",
            "Mileage/1000                    0  int64\n",
            "EngineV                       150  float64\n",
            "Engine Type                     0  object\n",
            "Registration                    0  object\n",
            "Year                            0  int64\n",
            "Model                           0  object\n"
          ]
        }
      ],
      "source": [
        "import pandas as pd\n",
        "from tabulate import tabulate\n",
        "\n",
        "# Carrega o conjunto de dados em um DataFrame\n",
        "df = pd.read_csv('https://raw.githubusercontent.com/DavidAugustoo/CP1-MachineLearning/main/carros.csv')\n",
        "\n",
        "# Inspeção das primeiras 15 linhas\n",
        "print(\"As primeiras 15 linhas do DataFrame:\")\n",
        "print(tabulate(df.head(15), headers='keys', tablefmt='psql'))\n",
        "\n",
        "# Obtém a quantidade de dados e atributos do DataFrame\n",
        "num_data = df.shape[0] # número de dados\n",
        "num_features = df.shape[1] # número de atributos\n",
        "\n",
        "# Verifica se existem valores faltantes no DataFrame\n",
        "missing_values = df.isnull().sum() # quantidade de valores faltantes\n",
        "\n",
        "# Obtém informações sobre os tipos de dados dos atributos\n",
        "data_types = df.dtypes\n",
        "\n",
        "info_dict = {\n",
        "    \"Número de dados\": num_data,\n",
        "    \"Número de atributos\": num_features,\n",
        "    \"Valores faltantes\": missing_values.sum()\n",
        "}\n",
        "\n",
        "info_list = [[k, v] for k, v in info_dict.items()]\n",
        "summary_list = [[col, missing_values[col], data_types[col]] for col in df.columns]\n",
        "\n",
        "print(\"\\nInformações gerais do conjunto de dados: \\n\")\n",
        "print(tabulate(info_list, headers=[\"Descrição\", \"Valor\"]))\n",
        "print(\"\\nValores faltantes e tipos de dados por atributo: \\n\")\n",
        "print(tabulate(summary_list, headers=[\"Atributo\", \"Valores faltantes\", \"Tipos de dados\"]))\n",
        "\n",
        "# Remove dados nulos\n",
        "df = df.dropna(axis = 0)"
      ]
    },
    {
      "cell_type": "markdown",
      "metadata": {
        "id": "qXaP-3r05bSZ"
      },
      "source": [
        "2 - Note que os dataset está no sistema americano. Converta os dados para o sistema métrico e altere o cabeçalho de forma que os dados façam sentido. (1,0)\n",
        "\n",
        "Obs: Os dados de Milhas dividos por mil, ou seja, multiplique o valor por 1.000 para ter o valor real!"
      ]
    },
    {
      "cell_type": "code",
      "execution_count": 11,
      "metadata": {
        "id": "FqWaPS5d7yk0",
        "colab": {
          "base_uri": "https://localhost:8080/",
          "height": 0
        },
        "outputId": "77ab97d4-63d4-4f8f-80ac-0b6ee04c7f7b"
      },
      "outputs": [
        {
          "output_type": "execute_result",
          "data": {
            "text/plain": [
              "              Marca     Preco Carroceria  Quilometragem  Capacidade_do_motor  \\\n",
              "0               BMW    4200.0      sedan      445787.18                  2.0   \n",
              "1     Mercedes-Benz    7900.0        van      687188.18                  2.9   \n",
              "2     Mercedes-Benz   13300.0      sedan      576143.72                  5.0   \n",
              "3              Audi   23000.0  crossover      386241.60                  4.2   \n",
              "4            Toyota   18300.0  crossover      193120.80                  2.0   \n",
              "...             ...       ...        ...            ...                  ...   \n",
              "4339         Toyota   17900.0      sedan       56326.90                  1.6   \n",
              "4340  Mercedes-Benz  125000.0      sedan       14484.06                  3.0   \n",
              "4341            BMW    6500.0      sedan        1609.34                  3.5   \n",
              "4342            BMW    8000.0      sedan      312211.96                  2.0   \n",
              "4344     Volkswagen   13500.0        van      199558.16                  2.0   \n",
              "\n",
              "     Tipo_de_motor Registro   Ano             Modelo  \n",
              "0           Petrol      yes  1991                320  \n",
              "1           Diesel      yes  1999       Sprinter 212  \n",
              "2              Gas      yes  2003              S 500  \n",
              "3           Petrol      yes  2007                 Q7  \n",
              "4           Petrol      yes  2011              Rav 4  \n",
              "...            ...      ...   ...                ...  \n",
              "4339        Petrol      yes  2014            Corolla  \n",
              "4340        Diesel      yes  2014              S 350  \n",
              "4341        Petrol      yes  1999                535  \n",
              "4342        Petrol      yes  1985                520  \n",
              "4344        Diesel      yes  2013  T5 (Transporter)   \n",
              "\n",
              "[4025 rows x 9 columns]"
            ],
            "text/html": [
              "\n",
              "  <div id=\"df-fa5baf96-147d-4b37-9f04-f0309762bfc6\">\n",
              "    <div class=\"colab-df-container\">\n",
              "      <div>\n",
              "<style scoped>\n",
              "    .dataframe tbody tr th:only-of-type {\n",
              "        vertical-align: middle;\n",
              "    }\n",
              "\n",
              "    .dataframe tbody tr th {\n",
              "        vertical-align: top;\n",
              "    }\n",
              "\n",
              "    .dataframe thead th {\n",
              "        text-align: right;\n",
              "    }\n",
              "</style>\n",
              "<table border=\"1\" class=\"dataframe\">\n",
              "  <thead>\n",
              "    <tr style=\"text-align: right;\">\n",
              "      <th></th>\n",
              "      <th>Marca</th>\n",
              "      <th>Preco</th>\n",
              "      <th>Carroceria</th>\n",
              "      <th>Quilometragem</th>\n",
              "      <th>Capacidade_do_motor</th>\n",
              "      <th>Tipo_de_motor</th>\n",
              "      <th>Registro</th>\n",
              "      <th>Ano</th>\n",
              "      <th>Modelo</th>\n",
              "    </tr>\n",
              "  </thead>\n",
              "  <tbody>\n",
              "    <tr>\n",
              "      <th>0</th>\n",
              "      <td>BMW</td>\n",
              "      <td>4200.0</td>\n",
              "      <td>sedan</td>\n",
              "      <td>445787.18</td>\n",
              "      <td>2.0</td>\n",
              "      <td>Petrol</td>\n",
              "      <td>yes</td>\n",
              "      <td>1991</td>\n",
              "      <td>320</td>\n",
              "    </tr>\n",
              "    <tr>\n",
              "      <th>1</th>\n",
              "      <td>Mercedes-Benz</td>\n",
              "      <td>7900.0</td>\n",
              "      <td>van</td>\n",
              "      <td>687188.18</td>\n",
              "      <td>2.9</td>\n",
              "      <td>Diesel</td>\n",
              "      <td>yes</td>\n",
              "      <td>1999</td>\n",
              "      <td>Sprinter 212</td>\n",
              "    </tr>\n",
              "    <tr>\n",
              "      <th>2</th>\n",
              "      <td>Mercedes-Benz</td>\n",
              "      <td>13300.0</td>\n",
              "      <td>sedan</td>\n",
              "      <td>576143.72</td>\n",
              "      <td>5.0</td>\n",
              "      <td>Gas</td>\n",
              "      <td>yes</td>\n",
              "      <td>2003</td>\n",
              "      <td>S 500</td>\n",
              "    </tr>\n",
              "    <tr>\n",
              "      <th>3</th>\n",
              "      <td>Audi</td>\n",
              "      <td>23000.0</td>\n",
              "      <td>crossover</td>\n",
              "      <td>386241.60</td>\n",
              "      <td>4.2</td>\n",
              "      <td>Petrol</td>\n",
              "      <td>yes</td>\n",
              "      <td>2007</td>\n",
              "      <td>Q7</td>\n",
              "    </tr>\n",
              "    <tr>\n",
              "      <th>4</th>\n",
              "      <td>Toyota</td>\n",
              "      <td>18300.0</td>\n",
              "      <td>crossover</td>\n",
              "      <td>193120.80</td>\n",
              "      <td>2.0</td>\n",
              "      <td>Petrol</td>\n",
              "      <td>yes</td>\n",
              "      <td>2011</td>\n",
              "      <td>Rav 4</td>\n",
              "    </tr>\n",
              "    <tr>\n",
              "      <th>...</th>\n",
              "      <td>...</td>\n",
              "      <td>...</td>\n",
              "      <td>...</td>\n",
              "      <td>...</td>\n",
              "      <td>...</td>\n",
              "      <td>...</td>\n",
              "      <td>...</td>\n",
              "      <td>...</td>\n",
              "      <td>...</td>\n",
              "    </tr>\n",
              "    <tr>\n",
              "      <th>4339</th>\n",
              "      <td>Toyota</td>\n",
              "      <td>17900.0</td>\n",
              "      <td>sedan</td>\n",
              "      <td>56326.90</td>\n",
              "      <td>1.6</td>\n",
              "      <td>Petrol</td>\n",
              "      <td>yes</td>\n",
              "      <td>2014</td>\n",
              "      <td>Corolla</td>\n",
              "    </tr>\n",
              "    <tr>\n",
              "      <th>4340</th>\n",
              "      <td>Mercedes-Benz</td>\n",
              "      <td>125000.0</td>\n",
              "      <td>sedan</td>\n",
              "      <td>14484.06</td>\n",
              "      <td>3.0</td>\n",
              "      <td>Diesel</td>\n",
              "      <td>yes</td>\n",
              "      <td>2014</td>\n",
              "      <td>S 350</td>\n",
              "    </tr>\n",
              "    <tr>\n",
              "      <th>4341</th>\n",
              "      <td>BMW</td>\n",
              "      <td>6500.0</td>\n",
              "      <td>sedan</td>\n",
              "      <td>1609.34</td>\n",
              "      <td>3.5</td>\n",
              "      <td>Petrol</td>\n",
              "      <td>yes</td>\n",
              "      <td>1999</td>\n",
              "      <td>535</td>\n",
              "    </tr>\n",
              "    <tr>\n",
              "      <th>4342</th>\n",
              "      <td>BMW</td>\n",
              "      <td>8000.0</td>\n",
              "      <td>sedan</td>\n",
              "      <td>312211.96</td>\n",
              "      <td>2.0</td>\n",
              "      <td>Petrol</td>\n",
              "      <td>yes</td>\n",
              "      <td>1985</td>\n",
              "      <td>520</td>\n",
              "    </tr>\n",
              "    <tr>\n",
              "      <th>4344</th>\n",
              "      <td>Volkswagen</td>\n",
              "      <td>13500.0</td>\n",
              "      <td>van</td>\n",
              "      <td>199558.16</td>\n",
              "      <td>2.0</td>\n",
              "      <td>Diesel</td>\n",
              "      <td>yes</td>\n",
              "      <td>2013</td>\n",
              "      <td>T5 (Transporter)</td>\n",
              "    </tr>\n",
              "  </tbody>\n",
              "</table>\n",
              "<p>4025 rows × 9 columns</p>\n",
              "</div>\n",
              "      <button class=\"colab-df-convert\" onclick=\"convertToInteractive('df-fa5baf96-147d-4b37-9f04-f0309762bfc6')\"\n",
              "              title=\"Convert this dataframe to an interactive table.\"\n",
              "              style=\"display:none;\">\n",
              "        \n",
              "  <svg xmlns=\"http://www.w3.org/2000/svg\" height=\"24px\"viewBox=\"0 0 24 24\"\n",
              "       width=\"24px\">\n",
              "    <path d=\"M0 0h24v24H0V0z\" fill=\"none\"/>\n",
              "    <path d=\"M18.56 5.44l.94 2.06.94-2.06 2.06-.94-2.06-.94-.94-2.06-.94 2.06-2.06.94zm-11 1L8.5 8.5l.94-2.06 2.06-.94-2.06-.94L8.5 2.5l-.94 2.06-2.06.94zm10 10l.94 2.06.94-2.06 2.06-.94-2.06-.94-.94-2.06-.94 2.06-2.06.94z\"/><path d=\"M17.41 7.96l-1.37-1.37c-.4-.4-.92-.59-1.43-.59-.52 0-1.04.2-1.43.59L10.3 9.45l-7.72 7.72c-.78.78-.78 2.05 0 2.83L4 21.41c.39.39.9.59 1.41.59.51 0 1.02-.2 1.41-.59l7.78-7.78 2.81-2.81c.8-.78.8-2.07 0-2.86zM5.41 20L4 18.59l7.72-7.72 1.47 1.35L5.41 20z\"/>\n",
              "  </svg>\n",
              "      </button>\n",
              "      \n",
              "  <style>\n",
              "    .colab-df-container {\n",
              "      display:flex;\n",
              "      flex-wrap:wrap;\n",
              "      gap: 12px;\n",
              "    }\n",
              "\n",
              "    .colab-df-convert {\n",
              "      background-color: #E8F0FE;\n",
              "      border: none;\n",
              "      border-radius: 50%;\n",
              "      cursor: pointer;\n",
              "      display: none;\n",
              "      fill: #1967D2;\n",
              "      height: 32px;\n",
              "      padding: 0 0 0 0;\n",
              "      width: 32px;\n",
              "    }\n",
              "\n",
              "    .colab-df-convert:hover {\n",
              "      background-color: #E2EBFA;\n",
              "      box-shadow: 0px 1px 2px rgba(60, 64, 67, 0.3), 0px 1px 3px 1px rgba(60, 64, 67, 0.15);\n",
              "      fill: #174EA6;\n",
              "    }\n",
              "\n",
              "    [theme=dark] .colab-df-convert {\n",
              "      background-color: #3B4455;\n",
              "      fill: #D2E3FC;\n",
              "    }\n",
              "\n",
              "    [theme=dark] .colab-df-convert:hover {\n",
              "      background-color: #434B5C;\n",
              "      box-shadow: 0px 1px 3px 1px rgba(0, 0, 0, 0.15);\n",
              "      filter: drop-shadow(0px 1px 2px rgba(0, 0, 0, 0.3));\n",
              "      fill: #FFFFFF;\n",
              "    }\n",
              "  </style>\n",
              "\n",
              "      <script>\n",
              "        const buttonEl =\n",
              "          document.querySelector('#df-fa5baf96-147d-4b37-9f04-f0309762bfc6 button.colab-df-convert');\n",
              "        buttonEl.style.display =\n",
              "          google.colab.kernel.accessAllowed ? 'block' : 'none';\n",
              "\n",
              "        async function convertToInteractive(key) {\n",
              "          const element = document.querySelector('#df-fa5baf96-147d-4b37-9f04-f0309762bfc6');\n",
              "          const dataTable =\n",
              "            await google.colab.kernel.invokeFunction('convertToInteractive',\n",
              "                                                     [key], {});\n",
              "          if (!dataTable) return;\n",
              "\n",
              "          const docLinkHtml = 'Like what you see? Visit the ' +\n",
              "            '<a target=\"_blank\" href=https://colab.research.google.com/notebooks/data_table.ipynb>data table notebook</a>'\n",
              "            + ' to learn more about interactive tables.';\n",
              "          element.innerHTML = '';\n",
              "          dataTable['output_type'] = 'display_data';\n",
              "          await google.colab.output.renderOutput(dataTable, element);\n",
              "          const docLink = document.createElement('div');\n",
              "          docLink.innerHTML = docLinkHtml;\n",
              "          element.appendChild(docLink);\n",
              "        }\n",
              "      </script>\n",
              "    </div>\n",
              "  </div>\n",
              "  "
            ]
          },
          "metadata": {},
          "execution_count": 11
        }
      ],
      "source": [
        "# Renomeando as colunas\n",
        "df = df.rename(columns={\n",
        "    \"Brand\": \"Marca\",\n",
        "    \"Price\": \"Preco\",\n",
        "    \"Body\": \"Carroceria\",\n",
        "    \"Mileage/1000\": \"Quilometragem\",\n",
        "    \"EngineV\": \"Capacidade_do_motor\",\n",
        "    \"Engine Type\": \"Tipo_de_motor\",\n",
        "    \"Registration\": \"Registro\",\n",
        "    \"Year\": \"Ano\",\n",
        "    \"Model\": \"Modelo\"\n",
        "})\n",
        "\n",
        "# Convertendo a coluna Quilometragem de milhas para quilômetros\n",
        "df[\"Quilometragem\"] = (df[\"Quilometragem\"] * 1.60934) * 1000\n",
        "\n",
        "# Exibindo as primeiras linhas do DataFrame resultante\n",
        "df"
      ]
    },
    {
      "cell_type": "markdown",
      "metadata": {
        "id": "JkvVJsjg5kTq"
      },
      "source": [
        "## **Analise descritiva dos dados - 2 pontos**\n",
        "\n",
        "3 - Faça uma análise exploratória dos dados, utilizando gráficos e tabelas para realizar correlações entre os atributos e que permitam criar um cenário de correlação entre eles."
      ]
    },
    {
      "cell_type": "code",
      "execution_count": 12,
      "metadata": {
        "id": "jN0lCg81XisE"
      },
      "outputs": [],
      "source": [
        "import matplotlib.pyplot as plt\n",
        "import seaborn as sns\n",
        "import numpy as np\n",
        "\n",
        "# Calculando o logaritmo natural dos valores da coluna 'Preco'\n",
        "log_price = np.log(df['Preco'])\n",
        "df['log_preco'] = log_price\n",
        "df = df.drop('Preco',axis=1)"
      ]
    },
    {
      "cell_type": "code",
      "execution_count": 13,
      "metadata": {
        "colab": {
          "base_uri": "https://localhost:8080/",
          "height": 0
        },
        "id": "8m8kD0cuXisE",
        "outputId": "b7b6fdcf-c68b-42d6-8af7-229213349982"
      },
      "outputs": [
        {
          "output_type": "display_data",
          "data": {
            "text/plain": [
              "<Figure size 864x576 with 4 Axes>"
            ],
            "image/png": "[encoded data removed]"
          },
          "metadata": {
            "needs_background": "light"
          }
        }
      ],
      "source": [
        "fig, axs = plt.subplots(2, 2, figsize=(12, 8))\n",
        "\n",
        "# Gráfico 1: Preço vs. Quilometragem\n",
        "sns.scatterplot(x='log_preco', y='Quilometragem', data=df, ax=axs[0, 0])\n",
        "axs[0, 0].set_xlabel('Preço')\n",
        "axs[0, 0].set_ylabel('Quilometragem')\n",
        "axs[0, 0].set_title('Preço vs. Quilometragem')\n",
        "\n",
        "# Gráfico 2: Preço Médio por Marca\n",
        "mean_price_by_brand = df.groupby('Marca')['log_preco'].mean()\n",
        "mean_price_by_brand.plot(kind='bar', ax=axs[0, 1])\n",
        "axs[0, 1].set_xlabel('Marca')\n",
        "axs[0, 1].set_ylabel('Preço Médio')\n",
        "axs[0, 1].set_title('Preço Médio por Marca')\n",
        "\n",
        "# Gráfico 3: Média Quilometragem por Tipo de Motor\n",
        "mean_quilometragem_by_motor = df.groupby('Tipo_de_motor')['Quilometragem'].mean()\n",
        "mean_quilometragem_by_motor.plot(kind='bar', ax=axs[1, 0])\n",
        "axs[1, 0].set_xlabel('Tipo de Motor')\n",
        "axs[1, 0].set_ylabel('Média Quilometragem')\n",
        "axs[1, 0].set_title('Média Quilometragem por Tipo de Motor')\n",
        "\n",
        "# Gráfico 4: Média Preço por Ano\n",
        "mean_log_price_by_year = df.groupby('Ano')['log_preco'].mean()\n",
        "mean_log_price_by_year.plot(kind='bar', ax=axs[1, 1])\n",
        "axs[1, 1].set_xlabel('Ano')\n",
        "axs[1, 1].set_ylabel('Média Preço')\n",
        "axs[1, 1].set_title('Média Preço por Ano')\n",
        "\n",
        "plt.tight_layout()  # Ajusta o espaçamento entre os subplots\n",
        "plt.show()\n"
      ]
    },
    {
      "cell_type": "markdown",
      "metadata": {
        "id": "O_m8RaIs6KIz"
      },
      "source": [
        "## **Desenvolvimento do Modelo - 2 pontos**\n",
        "\n",
        "4 - O conjunto de dados indica a aplicação de qual modelo de aprendizagem de máquina para responder a pergunta do desafio? Por quê? (1,0)"
      ]
    },
    {
      "cell_type": "markdown",
      "metadata": {
        "id": "nWTzZl2K6kY_"
      },
      "source": [
        "**Resposta:** Com base no conjunto de dados fornecido, é indicada a aplicação do modelo de regressão de aprendizado de máquina para prever o preço de venda. A regressão permite estimar a relação entre o preço de venda do carro e as variáveis independentes, como ano, quilometragem e tipo de combustível. "
      ]
    },
    {
      "cell_type": "markdown",
      "metadata": {
        "id": "uUkBz0pu6nLk"
      },
      "source": [
        "5 - Qual a técnica sugerida para este projeto? Por quê? (1,0)"
      ]
    },
    {
      "cell_type": "markdown",
      "metadata": {
        "id": "2V2a4DRv6xg_"
      },
      "source": [
        "Resposta: A aplicação da técnica de Random Forest é mais adequada para prever o preço de venda de carros, pois ela permite capturar relações mais complexas e não lineares entre as variáveis independentes e a variável dependente. Embora a regressão linear múltipla seja uma técnica razoavelmente simples e fácil de interpretar, ela pode não ser capaz de lidar com a complexidade dos dados de carros usados, que podem ter diversas interações entre as variáveis."
      ]
    },
    {
      "cell_type": "markdown",
      "metadata": {
        "id": "wxJjN_cO7XbH"
      },
      "source": [
        "Com base nas suas respostas, agora escolha dois algortimos para implementar e comparar a performance de cada um deles ao final do desafio."
      ]
    },
    {
      "cell_type": "markdown",
      "metadata": {
        "id": "N6tmcuJk7fn4"
      },
      "source": [
        "Resposta:\n",
        "\n",
        "Algoritmo 1: RandomForestRegressor\n",
        "\n",
        "Algoritmo 2: LinearRegression"
      ]
    },
    {
      "cell_type": "markdown",
      "metadata": {
        "id": "H9gsbQvj6y_m"
      },
      "source": [
        "## **Treinamento e teste do Modelo - 3 pontos**\n",
        "\n",
        "6 - Crie um subset dos dados que serão utilizados para o treinamento e para o teste do modelo. Divida este subset em treino e teste. (1,0) "
      ]
    },
    {
      "cell_type": "code",
      "execution_count": 14,
      "metadata": {
        "id": "WW17xlyN78B8"
      },
      "outputs": [],
      "source": [
        "from sklearn.model_selection import train_test_split\n",
        "from sklearn.metrics import r2_score\n",
        "\n",
        "# Convertendo variáveis categóricas em variáveis binárias\n",
        "df_dummies = pd.get_dummies(df, drop_first=True)\n",
        "\n",
        "# Separando as variáveis independentes e dependentes\n",
        "x = df_dummies.drop('log_preco', axis = 1)\n",
        "y = df_dummies['log_preco']\n",
        "\n",
        "# Dividindo os dados em conjuntos de treinamento e teste\n",
        "x_train, x_test, y_train, y_test = train_test_split(x,y,test_size=2, random_state=365)"
      ]
    },
    {
      "cell_type": "markdown",
      "metadata": {
        "id": "QpDpVyWw7-Au"
      },
      "source": [
        "7 - Faça o treinamento e teste dos 2 algoritmos escolhidos. Utilize uma métrica (ex. R2-score, RMSE e MAE...) para avaliar a performance dos modelos."
      ]
    },
    {
      "cell_type": "markdown",
      "metadata": {
        "id": "Ft06krzb8RAV"
      },
      "source": [
        "7.1 - Algoritmo 1: (0,5)\n"
      ]
    },
    {
      "cell_type": "code",
      "execution_count": 15,
      "metadata": {
        "id": "vf4QB14J8Usb",
        "colab": {
          "base_uri": "https://localhost:8080/"
        },
        "outputId": "d7db8292-ec88-4850-9624-c8fed9a1aaf7"
      },
      "outputs": [
        {
          "output_type": "stream",
          "name": "stdout",
          "text": [
            "Random Forest R2-score: 0.98\n",
            "Random Forest RMSE: 0.09\n"
          ]
        }
      ],
      "source": [
        "from sklearn.ensemble import RandomForestRegressor, GradientBoostingRegressor\n",
        "from sklearn.metrics import mean_squared_error\n",
        "\n",
        "rf_model = RandomForestRegressor(n_estimators=100, random_state=42)\n",
        "\n",
        "# Treinando o modelo com os dados de treinamento x_train e y_train\n",
        "rf_model.fit(x_train, y_train)\n",
        "rf_r2_score = r2_score(y_test, rf_model.predict(x_test))\n",
        "rf_rmse = mean_squared_error(y_test, rf_model.predict(x_test), squared=False)\n",
        "\n",
        "print(\"Random Forest R2-score: {:.2f}\".format(rf_r2_score))\n",
        "print(\"Random Forest RMSE: {:.2f}\".format(rf_rmse))"
      ]
    },
    {
      "cell_type": "markdown",
      "metadata": {
        "id": "S8MKlSSM8dz5"
      },
      "source": [
        "7.2 - Algoritmo 2:  (0,5)"
      ]
    },
    {
      "cell_type": "code",
      "execution_count": 16,
      "metadata": {
        "id": "6kM92epO8gas",
        "colab": {
          "base_uri": "https://localhost:8080/"
        },
        "outputId": "b312de39-8bbf-4531-dd41-2cb0c2f322fc"
      },
      "outputs": [
        {
          "output_type": "stream",
          "name": "stdout",
          "text": [
            "Regressão Linear Múltipla R2-score: 0.99\n",
            "Regressão Linear Múltipla RMSE: 0.07\n"
          ]
        }
      ],
      "source": [
        "from sklearn.linear_model import LinearRegression\n",
        "from sklearn.metrics import r2_score, mean_squared_error\n",
        "\n",
        "# Cria o objeto do modelo de regressão linear múltipla\n",
        "lr_model = LinearRegression()\n",
        "\n",
        "# Treina o modelo com os dados de treinamento x_train e y_train\n",
        "lr_model.fit(x_train, y_train)\n",
        "\n",
        "# Faz as previsões com o modelo treinado usando os dados de teste x_test\n",
        "lr_y_pred = lr_model.predict(x_test)\n",
        "\n",
        "# Calcula o R2-score e o RMSE do modelo de regressão linear múltipla\n",
        "lr_r2_score = r2_score(y_test, lr_y_pred)\n",
        "lr_rmse = mean_squared_error(y_test, lr_y_pred, squared=False)\n",
        "\n",
        "print(\"Regressão Linear Múltipla R2-score: {:.2f}\".format(lr_r2_score))\n",
        "print(\"Regressão Linear Múltipla RMSE: {:.2f}\".format(lr_rmse))"
      ]
    },
    {
      "cell_type": "markdown",
      "metadata": {
        "id": "rBJqsqIB84E_"
      },
      "source": [
        "7.3 - Qual dos algortimos obteve melhor resultado? Por quê? (1,0)"
      ]
    },
    {
      "cell_type": "markdown",
      "metadata": {
        "id": "cnGh51RS8_we"
      },
      "source": [
        "Resposta: Embora a técnica de Regressão Linear Múltipla tenha apresentado um desempenho superior em relação à Random Forest, com um R2-score maior e um RMSE menor, é importante destacar que a Random Forest é capaz de lidar melhor com dados não lineares. "
      ]
    },
    {
      "cell_type": "markdown",
      "metadata": {
        "id": "YpNVMhSw9Fe7"
      },
      "source": [
        "## **Modelo de Produção: Teste com novos dados - 1 ponto**\n",
        "\n",
        "8 - Use o seu modelo treinado para responder a pergunta do desafio:"
      ]
    },
    {
      "cell_type": "code",
      "execution_count": 17,
      "metadata": {
        "id": "YeDDyUO_XisM",
        "colab": {
          "base_uri": "https://localhost:8080/"
        },
        "outputId": "6d1ae4a7-1756-4e40-83e0-508fb27ca51b"
      },
      "outputs": [
        {
          "output_type": "stream",
          "name": "stderr",
          "text": [
            "<ipython-input-17-eba80cba2446>:3: FutureWarning: The frame.append method is deprecated and will be removed from pandas in a future version. Use pandas.concat instead.\n",
            "  df_atualizado = df.append(registro, ignore_index=True)\n"
          ]
        }
      ],
      "source": [
        "# Criando uma função para adicionar um novo registro ao dataframe\n",
        "def adicionar_registro(df, registro):\n",
        "    df_atualizado = df.append(registro, ignore_index=True)\n",
        "    return df_atualizado\n",
        "\n",
        "# Definindo o novo registro a ser adicionado\n",
        "novo_registro = {'Marca': 'Volkswagen',\n",
        "                 'Carroceria': 'sedan',\n",
        "                 'Quilometragem': 172095,\n",
        "                 'Capacidade_do_motor': 2.0,\n",
        "                 'Tipo_de_motor': 'Gas',\n",
        "                 'Registro': 'yes',\n",
        "                 'Ano': 2005,\n",
        "                 'Modelo': 'Polo'}\n",
        "\n",
        "# Adicionando o novo registro ao dataframe original\n",
        "df_atualizado = adicionar_registro(df, novo_registro)\n",
        "\n",
        "# Aplicando one-hot encoding para variáveis categóricas\n",
        "df_atualizado_dummies = pd.get_dummies(df_atualizado, drop_first=True)\n",
        "\n",
        "# Selecionando o último registro adicionado\n",
        "ultimo_registro = df_atualizado_dummies.iloc[-1]\n",
        "\n",
        "# Criando um novo dataframe somente com o último registro\n",
        "ultimo_registro_df = pd.DataFrame([ultimo_registro.to_dict()])\n",
        "\n",
        "# Removendo a coluna 'log_preco' do último registro (se existir)\n",
        "ultimo_registro_df = ultimo_registro_df.drop('log_preco', axis=1)"
      ]
    },
    {
      "cell_type": "code",
      "execution_count": 18,
      "metadata": {
        "id": "qPvXoDbUXisM",
        "colab": {
          "base_uri": "https://localhost:8080/"
        },
        "outputId": "2dda566b-3296-4eff-e89a-eeb0172bb1be"
      },
      "outputs": [
        {
          "output_type": "stream",
          "name": "stdout",
          "text": [
            "Valor estimado: US$ 9129.36\n"
          ]
        }
      ],
      "source": [
        "# Obtendo o valor estimado do carro com a técnica Random Forest\n",
        "previsao = rf_model.predict(ultimo_registro_df)\n",
        "preco_estimado = np.e**previsao[0]\n",
        "\n",
        "print(\"Valor estimado: US$ {:.2f}\".format(preco_estimado))"
      ]
    }
  ],
  "metadata": {
    "colab": {
      "provenance": [],
      "collapsed_sections": [
        "3sD4e4IY13Ux",
        "JkvVJsjg5kTq"
      ]
    },
    "kernelspec": {
      "display_name": "Python 3 (ipykernel)",
      "language": "python",
      "name": "python3"
    },
    "language_info": {
      "codemirror_mode": {
        "name": "ipython",
        "version": 3
      },
      "file_extension": ".py",
      "mimetype": "text/x-python",
      "name": "python",
      "nbconvert_exporter": "python",
      "pygments_lexer": "ipython3",
      "version": "3.9.12"
    }
  },
  "nbformat": 4,
  "nbformat_minor": 0
}